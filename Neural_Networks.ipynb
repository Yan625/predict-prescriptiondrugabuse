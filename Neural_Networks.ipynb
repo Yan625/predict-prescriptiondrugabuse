{
 "cells": [
  {
   "cell_type": "markdown",
   "metadata": {
    "colab_type": "text",
    "id": "YjjzycBs0DAX"
   },
   "source": [
    "###1.Import packages and data\n"
   ]
  },
  {
   "cell_type": "code",
   "execution_count": 1,
   "metadata": {
    "colab": {
     "base_uri": "https://localhost:8080/",
     "height": 34
    },
    "colab_type": "code",
    "id": "NBE-1IgV0Bt4",
    "outputId": "9c8bea23-ac66-4236-c2dc-2a8290abcab0"
   },
   "outputs": [
    {
     "name": "stderr",
     "output_type": "stream",
     "text": [
      "Using TensorFlow backend.\n"
     ]
    }
   ],
   "source": [
    "import matplotlib.pyplot as plt\n",
    "import tensorflow\n",
    "import keras\n",
    "from keras import metrics\n",
    "import numpy as np\n",
    "from scipy.spatial.distance import cdist\n",
    "import pandas as pd"
   ]
  },
  {
   "cell_type": "code",
   "execution_count": 2,
   "metadata": {
    "colab": {
     "base_uri": "https://localhost:8080/",
     "height": 89,
     "resources": {
      "http://localhost:8080/nbextensions/google.colab/files.js": {
       "data": "Ly8gQ29weXJpZ2h0IDIwMTcgR29vZ2xlIExMQwovLwovLyBMaWNlbnNlZCB1bmRlciB0aGUgQXBhY2hlIExpY2Vuc2UsIFZlcnNpb24gMi4wICh0aGUgIkxpY2Vuc2UiKTsKLy8geW91IG1heSBub3QgdXNlIHRoaXMgZmlsZSBleGNlcHQgaW4gY29tcGxpYW5jZSB3aXRoIHRoZSBMaWNlbnNlLgovLyBZb3UgbWF5IG9idGFpbiBhIGNvcHkgb2YgdGhlIExpY2Vuc2UgYXQKLy8KLy8gICAgICBodHRwOi8vd3d3LmFwYWNoZS5vcmcvbGljZW5zZXMvTElDRU5TRS0yLjAKLy8KLy8gVW5sZXNzIHJlcXVpcmVkIGJ5IGFwcGxpY2FibGUgbGF3IG9yIGFncmVlZCB0byBpbiB3cml0aW5nLCBzb2Z0d2FyZQovLyBkaXN0cmlidXRlZCB1bmRlciB0aGUgTGljZW5zZSBpcyBkaXN0cmlidXRlZCBvbiBhbiAiQVMgSVMiIEJBU0lTLAovLyBXSVRIT1VUIFdBUlJBTlRJRVMgT1IgQ09ORElUSU9OUyBPRiBBTlkgS0lORCwgZWl0aGVyIGV4cHJlc3Mgb3IgaW1wbGllZC4KLy8gU2VlIHRoZSBMaWNlbnNlIGZvciB0aGUgc3BlY2lmaWMgbGFuZ3VhZ2UgZ292ZXJuaW5nIHBlcm1pc3Npb25zIGFuZAovLyBsaW1pdGF0aW9ucyB1bmRlciB0aGUgTGljZW5zZS4KCi8qKgogKiBAZmlsZW92ZXJ2aWV3IEhlbHBlcnMgZm9yIGdvb2dsZS5jb2xhYiBQeXRob24gbW9kdWxlLgogKi8KKGZ1bmN0aW9uKHNjb3BlKSB7CmZ1bmN0aW9uIHNwYW4odGV4dCwgc3R5bGVBdHRyaWJ1dGVzID0ge30pIHsKICBjb25zdCBlbGVtZW50ID0gZG9jdW1lbnQuY3JlYXRlRWxlbWVudCgnc3BhbicpOwogIGVsZW1lbnQudGV4dENvbnRlbnQgPSB0ZXh0OwogIGZvciAoY29uc3Qga2V5IG9mIE9iamVjdC5rZXlzKHN0eWxlQXR0cmlidXRlcykpIHsKICAgIGVsZW1lbnQuc3R5bGVba2V5XSA9IHN0eWxlQXR0cmlidXRlc1trZXldOwogIH0KICByZXR1cm4gZWxlbWVudDsKfQoKLy8gTWF4IG51bWJlciBvZiBieXRlcyB3aGljaCB3aWxsIGJlIHVwbG9hZGVkIGF0IGEgdGltZS4KY29uc3QgTUFYX1BBWUxPQURfU0laRSA9IDEwMCAqIDEwMjQ7CgpmdW5jdGlvbiBfdXBsb2FkRmlsZXMoaW5wdXRJZCwgb3V0cHV0SWQpIHsKICBjb25zdCBzdGVwcyA9IHVwbG9hZEZpbGVzU3RlcChpbnB1dElkLCBvdXRwdXRJZCk7CiAgY29uc3Qgb3V0cHV0RWxlbWVudCA9IGRvY3VtZW50LmdldEVsZW1lbnRCeUlkKG91dHB1dElkKTsKICAvLyBDYWNoZSBzdGVwcyBvbiB0aGUgb3V0cHV0RWxlbWVudCB0byBtYWtlIGl0IGF2YWlsYWJsZSBmb3IgdGhlIG5leHQgY2FsbAogIC8vIHRvIHVwbG9hZEZpbGVzQ29udGludWUgZnJvbSBQeXRob24uCiAgb3V0cHV0RWxlbWVudC5zdGVwcyA9IHN0ZXBzOwoKICByZXR1cm4gX3VwbG9hZEZpbGVzQ29udGludWUob3V0cHV0SWQpOwp9CgovLyBUaGlzIGlzIHJvdWdobHkgYW4gYXN5bmMgZ2VuZXJhdG9yIChub3Qgc3VwcG9ydGVkIGluIHRoZSBicm93c2VyIHlldCksCi8vIHdoZXJlIHRoZXJlIGFyZSBtdWx0aXBsZSBhc3luY2hyb25vdXMgc3RlcHMgYW5kIHRoZSBQeXRob24gc2lkZSBpcyBnb2luZwovLyB0byBwb2xsIGZvciBjb21wbGV0aW9uIG9mIGVhY2ggc3RlcC4KLy8gVGhpcyB1c2VzIGEgUHJvbWlzZSB0byBibG9jayB0aGUgcHl0aG9uIHNpZGUgb24gY29tcGxldGlvbiBvZiBlYWNoIHN0ZXAsCi8vIHRoZW4gcGFzc2VzIHRoZSByZXN1bHQgb2YgdGhlIHByZXZpb3VzIHN0ZXAgYXMgdGhlIGlucHV0IHRvIHRoZSBuZXh0IHN0ZXAuCmZ1bmN0aW9uIF91cGxvYWRGaWxlc0NvbnRpbnVlKG91dHB1dElkKSB7CiAgY29uc3Qgb3V0cHV0RWxlbWVudCA9IGRvY3VtZW50LmdldEVsZW1lbnRCeUlkKG91dHB1dElkKTsKICBjb25zdCBzdGVwcyA9IG91dHB1dEVsZW1lbnQuc3RlcHM7CgogIGNvbnN0IG5leHQgPSBzdGVwcy5uZXh0KG91dHB1dEVsZW1lbnQubGFzdFByb21pc2VWYWx1ZSk7CiAgcmV0dXJuIFByb21pc2UucmVzb2x2ZShuZXh0LnZhbHVlLnByb21pc2UpLnRoZW4oKHZhbHVlKSA9PiB7CiAgICAvLyBDYWNoZSB0aGUgbGFzdCBwcm9taXNlIHZhbHVlIHRvIG1ha2UgaXQgYXZhaWxhYmxlIHRvIHRoZSBuZXh0CiAgICAvLyBzdGVwIG9mIHRoZSBnZW5lcmF0b3IuCiAgICBvdXRwdXRFbGVtZW50Lmxhc3RQcm9taXNlVmFsdWUgPSB2YWx1ZTsKICAgIHJldHVybiBuZXh0LnZhbHVlLnJlc3BvbnNlOwogIH0pOwp9CgovKioKICogR2VuZXJhdG9yIGZ1bmN0aW9uIHdoaWNoIGlzIGNhbGxlZCBiZXR3ZWVuIGVhY2ggYXN5bmMgc3RlcCBvZiB0aGUgdXBsb2FkCiAqIHByb2Nlc3MuCiAqIEBwYXJhbSB7c3RyaW5nfSBpbnB1dElkIEVsZW1lbnQgSUQgb2YgdGhlIGlucHV0IGZpbGUgcGlja2VyIGVsZW1lbnQuCiAqIEBwYXJhbSB7c3RyaW5nfSBvdXRwdXRJZCBFbGVtZW50IElEIG9mIHRoZSBvdXRwdXQgZGlzcGxheS4KICogQHJldHVybiB7IUl0ZXJhYmxlPCFPYmplY3Q+fSBJdGVyYWJsZSBvZiBuZXh0IHN0ZXBzLgogKi8KZnVuY3Rpb24qIHVwbG9hZEZpbGVzU3RlcChpbnB1dElkLCBvdXRwdXRJZCkgewogIGNvbnN0IGlucHV0RWxlbWVudCA9IGRvY3VtZW50LmdldEVsZW1lbnRCeUlkKGlucHV0SWQpOwogIGlucHV0RWxlbWVudC5kaXNhYmxlZCA9IGZhbHNlOwoKICBjb25zdCBvdXRwdXRFbGVtZW50ID0gZG9jdW1lbnQuZ2V0RWxlbWVudEJ5SWQob3V0cHV0SWQpOwogIG91dHB1dEVsZW1lbnQuaW5uZXJIVE1MID0gJyc7CgogIGNvbnN0IHBpY2tlZFByb21pc2UgPSBuZXcgUHJvbWlzZSgocmVzb2x2ZSkgPT4gewogICAgaW5wdXRFbGVtZW50LmFkZEV2ZW50TGlzdGVuZXIoJ2NoYW5nZScsIChlKSA9PiB7CiAgICAgIHJlc29sdmUoZS50YXJnZXQuZmlsZXMpOwogICAgfSk7CiAgfSk7CgogIGNvbnN0IGNhbmNlbCA9IGRvY3VtZW50LmNyZWF0ZUVsZW1lbnQoJ2J1dHRvbicpOwogIGlucHV0RWxlbWVudC5wYXJlbnRFbGVtZW50LmFwcGVuZENoaWxkKGNhbmNlbCk7CiAgY2FuY2VsLnRleHRDb250ZW50ID0gJ0NhbmNlbCB1cGxvYWQnOwogIGNvbnN0IGNhbmNlbFByb21pc2UgPSBuZXcgUHJvbWlzZSgocmVzb2x2ZSkgPT4gewogICAgY2FuY2VsLm9uY2xpY2sgPSAoKSA9PiB7CiAgICAgIHJlc29sdmUobnVsbCk7CiAgICB9OwogIH0pOwoKICAvLyBXYWl0IGZvciB0aGUgdXNlciB0byBwaWNrIHRoZSBmaWxlcy4KICBjb25zdCBmaWxlcyA9IHlpZWxkIHsKICAgIHByb21pc2U6IFByb21pc2UucmFjZShbcGlja2VkUHJvbWlzZSwgY2FuY2VsUHJvbWlzZV0pLAogICAgcmVzcG9uc2U6IHsKICAgICAgYWN0aW9uOiAnc3RhcnRpbmcnLAogICAgfQogIH07CgogIGNhbmNlbC5yZW1vdmUoKTsKCiAgLy8gRGlzYWJsZSB0aGUgaW5wdXQgZWxlbWVudCBzaW5jZSBmdXJ0aGVyIHBpY2tzIGFyZSBub3QgYWxsb3dlZC4KICBpbnB1dEVsZW1lbnQuZGlzYWJsZWQgPSB0cnVlOwoKICBpZiAoIWZpbGVzKSB7CiAgICByZXR1cm4gewogICAgICByZXNwb25zZTogewogICAgICAgIGFjdGlvbjogJ2NvbXBsZXRlJywKICAgICAgfQogICAgfTsKICB9CgogIGZvciAoY29uc3QgZmlsZSBvZiBmaWxlcykgewogICAgY29uc3QgbGkgPSBkb2N1bWVudC5jcmVhdGVFbGVtZW50KCdsaScpOwogICAgbGkuYXBwZW5kKHNwYW4oZmlsZS5uYW1lLCB7Zm9udFdlaWdodDogJ2JvbGQnfSkpOwogICAgbGkuYXBwZW5kKHNwYW4oCiAgICAgICAgYCgke2ZpbGUudHlwZSB8fCAnbi9hJ30pIC0gJHtmaWxlLnNpemV9IGJ5dGVzLCBgICsKICAgICAgICBgbGFzdCBtb2RpZmllZDogJHsKICAgICAgICAgICAgZmlsZS5sYXN0TW9kaWZpZWREYXRlID8gZmlsZS5sYXN0TW9kaWZpZWREYXRlLnRvTG9jYWxlRGF0ZVN0cmluZygpIDoKICAgICAgICAgICAgICAgICAgICAgICAgICAgICAgICAgICAgJ24vYSd9IC0gYCkpOwogICAgY29uc3QgcGVyY2VudCA9IHNwYW4oJzAlIGRvbmUnKTsKICAgIGxpLmFwcGVuZENoaWxkKHBlcmNlbnQpOwoKICAgIG91dHB1dEVsZW1lbnQuYXBwZW5kQ2hpbGQobGkpOwoKICAgIGNvbnN0IGZpbGVEYXRhUHJvbWlzZSA9IG5ldyBQcm9taXNlKChyZXNvbHZlKSA9PiB7CiAgICAgIGNvbnN0IHJlYWRlciA9IG5ldyBGaWxlUmVhZGVyKCk7CiAgICAgIHJlYWRlci5vbmxvYWQgPSAoZSkgPT4gewogICAgICAgIHJlc29sdmUoZS50YXJnZXQucmVzdWx0KTsKICAgICAgfTsKICAgICAgcmVhZGVyLnJlYWRBc0FycmF5QnVmZmVyKGZpbGUpOwogICAgfSk7CiAgICAvLyBXYWl0IGZvciB0aGUgZGF0YSB0byBiZSByZWFkeS4KICAgIGxldCBmaWxlRGF0YSA9IHlpZWxkIHsKICAgICAgcHJvbWlzZTogZmlsZURhdGFQcm9taXNlLAogICAgICByZXNwb25zZTogewogICAgICAgIGFjdGlvbjogJ2NvbnRpbnVlJywKICAgICAgfQogICAgfTsKCiAgICAvLyBVc2UgYSBjaHVua2VkIHNlbmRpbmcgdG8gYXZvaWQgbWVzc2FnZSBzaXplIGxpbWl0cy4gU2VlIGIvNjIxMTU2NjAuCiAgICBsZXQgcG9zaXRpb24gPSAwOwogICAgd2hpbGUgKHBvc2l0aW9uIDwgZmlsZURhdGEuYnl0ZUxlbmd0aCkgewogICAgICBjb25zdCBsZW5ndGggPSBNYXRoLm1pbihmaWxlRGF0YS5ieXRlTGVuZ3RoIC0gcG9zaXRpb24sIE1BWF9QQVlMT0FEX1NJWkUpOwogICAgICBjb25zdCBjaHVuayA9IG5ldyBVaW50OEFycmF5KGZpbGVEYXRhLCBwb3NpdGlvbiwgbGVuZ3RoKTsKICAgICAgcG9zaXRpb24gKz0gbGVuZ3RoOwoKICAgICAgY29uc3QgYmFzZTY0ID0gYnRvYShTdHJpbmcuZnJvbUNoYXJDb2RlLmFwcGx5KG51bGwsIGNodW5rKSk7CiAgICAgIHlpZWxkIHsKICAgICAgICByZXNwb25zZTogewogICAgICAgICAgYWN0aW9uOiAnYXBwZW5kJywKICAgICAgICAgIGZpbGU6IGZpbGUubmFtZSwKICAgICAgICAgIGRhdGE6IGJhc2U2NCwKICAgICAgICB9LAogICAgICB9OwogICAgICBwZXJjZW50LnRleHRDb250ZW50ID0KICAgICAgICAgIGAke01hdGgucm91bmQoKHBvc2l0aW9uIC8gZmlsZURhdGEuYnl0ZUxlbmd0aCkgKiAxMDApfSUgZG9uZWA7CiAgICB9CiAgfQoKICAvLyBBbGwgZG9uZS4KICB5aWVsZCB7CiAgICByZXNwb25zZTogewogICAgICBhY3Rpb246ICdjb21wbGV0ZScsCiAgICB9CiAgfTsKfQoKc2NvcGUuZ29vZ2xlID0gc2NvcGUuZ29vZ2xlIHx8IHt9OwpzY29wZS5nb29nbGUuY29sYWIgPSBzY29wZS5nb29nbGUuY29sYWIgfHwge307CnNjb3BlLmdvb2dsZS5jb2xhYi5fZmlsZXMgPSB7CiAgX3VwbG9hZEZpbGVzLAogIF91cGxvYWRGaWxlc0NvbnRpbnVlLAp9Owp9KShzZWxmKTsK",
       "headers": [
        [
         "content-type",
         "application/javascript"
        ]
       ],
       "ok": true,
       "status": 200,
       "status_text": ""
      }
     }
    },
    "colab_type": "code",
    "id": "fBw0o34a0LYQ",
    "outputId": "e95f4a95-a856-4e45-bc12-9ebe63779d31"
   },
   "outputs": [
    {
     "data": {
      "text/html": [
       "\n",
       "     <input type=\"file\" id=\"files-422c1fa5-932e-4e85-a764-562913488aee\" name=\"files[]\" multiple disabled\n",
       "        style=\"border:none\" />\n",
       "     <output id=\"result-422c1fa5-932e-4e85-a764-562913488aee\">\n",
       "      Upload widget is only available when the cell has been executed in the\n",
       "      current browser session. Please rerun this cell to enable.\n",
       "      </output>\n",
       "      <script src=\"/nbextensions/google.colab/files.js\"></script> "
      ],
      "text/plain": [
       "<IPython.core.display.HTML object>"
      ]
     },
     "metadata": {
      "tags": []
     },
     "output_type": "display_data"
    },
    {
     "name": "stdout",
     "output_type": "stream",
     "text": [
      "Saving drugTweets.txt to drugTweets.txt\n",
      "User uploaded file \"drugTweets.txt\" with length 368650 bytes\n"
     ]
    }
   ],
   "source": [
    "from google.colab import files\n",
    "\n",
    "uploaded = files.upload()\n",
    "\n",
    "for fn in uploaded.keys():\n",
    "  print('User uploaded file \"{name}\" with length {length} bytes'.format(\n",
    "      name=fn, length=len(uploaded[fn])))\n",
    "  \n"
   ]
  },
  {
   "cell_type": "code",
   "execution_count": 3,
   "metadata": {
    "colab": {},
    "colab_type": "code",
    "id": "zxL92kUOxbdA"
   },
   "outputs": [],
   "source": [
    "drugTweets = pd.read_csv('drugTweets.txt', delimiter = \"\\t\", header = 0)"
   ]
  },
  {
   "cell_type": "markdown",
   "metadata": {
    "colab_type": "text",
    "id": "j0-XuUOo0Y74"
   },
   "source": [
    "###2.Tokenization & Split Train / Test"
   ]
  },
  {
   "cell_type": "code",
   "execution_count": 4,
   "metadata": {
    "colab": {},
    "colab_type": "code",
    "id": "oGuXGA7o12dE"
   },
   "outputs": [],
   "source": [
    "from keras.preprocessing.text import Tokenizer"
   ]
  },
  {
   "cell_type": "code",
   "execution_count": 5,
   "metadata": {
    "colab": {},
    "colab_type": "code",
    "id": "Uv0uGClf0nFk"
   },
   "outputs": [],
   "source": [
    "num_words = 5000\n",
    "\n",
    "tokenizer = Tokenizer(num_words = num_words)\n",
    "tokenizer.fit_on_texts(drugTweets.text_text)\n"
   ]
  },
  {
   "cell_type": "code",
   "execution_count": 6,
   "metadata": {
    "colab": {},
    "colab_type": "code",
    "id": "IFfohN2eRJjl"
   },
   "outputs": [],
   "source": [
    "test = drugTweets.sample(frac = 0.2, random_state = 123)\n",
    "train = drugTweets.drop(test.index)\n",
    "\n",
    "y_train = train.abuse\n",
    "y_test = test.abuse\n",
    "\n",
    "x_test_tokens = tokenizer.texts_to_sequences(test.text_text)\n",
    "x_train_tokens = tokenizer.texts_to_sequences(train.text_text)"
   ]
  },
  {
   "cell_type": "markdown",
   "metadata": {
    "colab_type": "text",
    "id": "z94F0NiO17Uv"
   },
   "source": [
    "###3.Text Padding"
   ]
  },
  {
   "cell_type": "code",
   "execution_count": 7,
   "metadata": {
    "colab": {},
    "colab_type": "code",
    "id": "XaUnoGaN19Uy"
   },
   "outputs": [],
   "source": [
    "from keras.preprocessing.sequence import pad_sequences"
   ]
  },
  {
   "cell_type": "code",
   "execution_count": 8,
   "metadata": {
    "colab": {
     "base_uri": "https://localhost:8080/",
     "height": 34
    },
    "colab_type": "code",
    "id": "4JYWMydZ1-z7",
    "outputId": "c57d308b-b399-45b4-c704-dac0c2f3b93d"
   },
   "outputs": [
    {
     "data": {
      "text/plain": [
       "26"
      ]
     },
     "execution_count": 8,
     "metadata": {
      "tags": []
     },
     "output_type": "execute_result"
    }
   ],
   "source": [
    "num_tokens = [len(tokens) for tokens in x_train_tokens + x_test_tokens]\n",
    "num_tokens = np.array(num_tokens)\n",
    "\n",
    "max_tokens = np.mean(num_tokens) + 2 * np.std(num_tokens)\n",
    "max_tokens = int(max_tokens)\n",
    "max_tokens\n"
   ]
  },
  {
   "cell_type": "code",
   "execution_count": 9,
   "metadata": {
    "colab": {
     "base_uri": "https://localhost:8080/",
     "height": 34
    },
    "colab_type": "code",
    "id": "itx133hrbOhO",
    "outputId": "e7431a58-7931-4a64-d135-6bdeedcf46bb"
   },
   "outputs": [
    {
     "data": {
      "text/plain": [
       "0.9559164733178654"
      ]
     },
     "execution_count": 9,
     "metadata": {
      "tags": []
     },
     "output_type": "execute_result"
    }
   ],
   "source": [
    "np.sum(num_tokens < max_tokens) / len(num_tokens)"
   ]
  },
  {
   "cell_type": "code",
   "execution_count": 10,
   "metadata": {
    "colab": {},
    "colab_type": "code",
    "id": "wiigXepH5NEi"
   },
   "outputs": [],
   "source": [
    "pad = 'post'\n",
    "\n",
    "x_train_pad = pad_sequences(x_train_tokens, maxlen=max_tokens,\n",
    "                            padding=pad, truncating=pad)\n",
    "\n",
    "x_test_pad = pad_sequences(x_test_tokens, maxlen=max_tokens,\n",
    "                           padding=pad, truncating=pad)\n",
    "\n"
   ]
  },
  {
   "cell_type": "markdown",
   "metadata": {
    "colab_type": "text",
    "id": "db4X8Wzz2PuO"
   },
   "source": [
    "###4.RNN "
   ]
  },
  {
   "cell_type": "code",
   "execution_count": 11,
   "metadata": {
    "colab": {},
    "colab_type": "code",
    "id": "fTqpJc292R10"
   },
   "outputs": [],
   "source": [
    "from keras.models import Sequential\n",
    "from keras.layers import Dense, GRU, LSTM, Dropout\n",
    "from keras.regularizers import l1, l2\n",
    "\n",
    "from keras.layers.embeddings import Embedding\n",
    "from keras.optimizers import Adam\n",
    "from sklearn.metrics import classification_report\n",
    "from sklearn.utils import class_weight\n"
   ]
  },
  {
   "cell_type": "code",
   "execution_count": 12,
   "metadata": {
    "colab": {},
    "colab_type": "code",
    "id": "A9o-lXo22YUl"
   },
   "outputs": [],
   "source": [
    "embedding_size = 64"
   ]
  },
  {
   "cell_type": "code",
   "execution_count": 13,
   "metadata": {
    "colab": {},
    "colab_type": "code",
    "id": "-iq-Yb012aXt"
   },
   "outputs": [],
   "source": [
    "rnn = Sequential()\n",
    "\n",
    "rnn.add(Embedding(input_dim = num_words,\n",
    "                 output_dim = embedding_size,\n",
    "                 input_length = max_tokens,\n",
    "                 name = \"embedding_layer\"))\n",
    "\n",
    "rnn.add(Dropout(0.5))\n",
    "\n",
    "rnn.add(LSTM(units = 16,\n",
    "            dropout = 0.4,\n",
    "            kernel_regularizer=l1(0.0001),\n",
    "            name = 'LSTM_layer'))\n",
    "\n",
    "rnn.add(Dropout(0.5))\n",
    "rnn.add(Dropout(0.1))\n",
    "\n",
    "rnn.add(Dense(units = 1,\n",
    "             activation = 'sigmoid',\n",
    "             kernel_regularizer=l2(0.015),\n",
    "             name = 'Ouput_Layer'))\n",
    "\n",
    "\n",
    "optimizer = Adam(lr = 0.001, decay = 0.001)\n",
    "\n",
    "rnn.compile(loss = 'binary_crossentropy',\n",
    "           optimizer = optimizer,\n",
    "           metrics = ['accuracy'])"
   ]
  },
  {
   "cell_type": "code",
   "execution_count": 14,
   "metadata": {
    "colab": {
     "base_uri": "https://localhost:8080/",
     "height": 34
    },
    "colab_type": "code",
    "id": "fqMC8J-f20UI",
    "outputId": "a41601bd-4092-4f97-f17e-ccbd2c7d31f9"
   },
   "outputs": [
    {
     "data": {
      "text/plain": [
       "{0: 0.5847868217054264, 1: 3.4485714285714284}"
      ]
     },
     "execution_count": 14,
     "metadata": {
      "tags": []
     },
     "output_type": "execute_result"
    }
   ],
   "source": [
    "class_weights = class_weight.compute_class_weight('balanced',\n",
    "                                                  np.unique(y_train),\n",
    "                                                  y_train)\n",
    "class_weights = dict(enumerate(class_weights))\n",
    "class_weights"
   ]
  },
  {
   "cell_type": "markdown",
   "metadata": {
    "colab_type": "text",
    "id": "dtXkYY6k2koQ"
   },
   "source": [
    "####Training"
   ]
  },
  {
   "cell_type": "code",
   "execution_count": 22,
   "metadata": {
    "colab": {
     "base_uri": "https://localhost:8080/",
     "height": 275
    },
    "colab_type": "code",
    "id": "118KAX91xqU9",
    "outputId": "beacf9f0-b14c-4014-805e-fbb168db3e13"
   },
   "outputs": [
    {
     "name": "stdout",
     "output_type": "stream",
     "text": [
      "Train on 2365 samples, validate on 49 samples\n",
      "Epoch 1/2\n",
      "2365/2365 [==============================] - 1s 326us/step - loss: 0.3060 - accuracy: 0.9467 - val_loss: 1.9967 - val_accuracy: 0.8163\n",
      "Epoch 2/2\n",
      "2365/2365 [==============================] - 1s 319us/step - loss: 0.2526 - accuracy: 0.9569 - val_loss: 1.9413 - val_accuracy: 0.7959\n",
      "              precision    recall  f1-score   support\n",
      "\n",
      "           0      0.988     0.986     0.987      2064\n",
      "           1      0.918     0.929     0.923       350\n",
      "\n",
      "    accuracy                          0.978      2414\n",
      "   macro avg      0.953     0.957     0.955      2414\n",
      "weighted avg      0.978     0.978     0.978      2414\n",
      "\n"
     ]
    }
   ],
   "source": [
    "rnn.fit(x_train_pad, y_train, batch_size = 64, validation_split = 0.02, epochs = 2, class_weight = class_weights)\n",
    "preds_train = rnn.predict_classes(x_train_pad)\n",
    "print(classification_report(y_train, preds_train, digits = 3))"
   ]
  },
  {
   "cell_type": "markdown",
   "metadata": {
    "colab_type": "text",
    "id": "DcVK_F7hqqBr"
   },
   "source": [
    "#### Test"
   ]
  },
  {
   "cell_type": "code",
   "execution_count": 23,
   "metadata": {
    "colab": {
     "base_uri": "https://localhost:8080/",
     "height": 170
    },
    "colab_type": "code",
    "id": "sUjUGtLDUF1G",
    "outputId": "c399cab1-0966-4e74-d357-367f4f60df31"
   },
   "outputs": [
    {
     "name": "stdout",
     "output_type": "stream",
     "text": [
      "              precision    recall  f1-score   support\n",
      "\n",
      "           0      0.883     0.897     0.890       506\n",
      "           1      0.416     0.381     0.398        97\n",
      "\n",
      "    accuracy                          0.814       603\n",
      "   macro avg      0.649     0.639     0.644       603\n",
      "weighted avg      0.808     0.814     0.811       603\n",
      "\n"
     ]
    }
   ],
   "source": [
    "preds = rnn.predict_classes(x_test_pad)\n",
    "print(classification_report(y_test, preds, digits = 3))\n"
   ]
  },
  {
   "cell_type": "markdown",
   "metadata": {
    "colab_type": "text",
    "id": "y_yxYJt1qua5"
   },
   "source": [
    "Check confusion_matrix of RNN model."
   ]
  },
  {
   "cell_type": "code",
   "execution_count": 24,
   "metadata": {
    "colab": {
     "base_uri": "https://localhost:8080/",
     "height": 51
    },
    "colab_type": "code",
    "id": "tUx5PQD5yIJJ",
    "outputId": "cf8d9134-b833-4f72-be56-5a7da56d2fda"
   },
   "outputs": [
    {
     "data": {
      "text/plain": [
       "array([[454,  52],\n",
       "       [ 60,  37]])"
      ]
     },
     "execution_count": 24,
     "metadata": {
      "tags": []
     },
     "output_type": "execute_result"
    }
   ],
   "source": [
    "from sklearn.metrics import confusion_matrix\n",
    "\n",
    "confusion_matrix(y_test, preds)"
   ]
  },
  {
   "cell_type": "code",
   "execution_count": 28,
   "metadata": {
    "colab": {
     "base_uri": "https://localhost:8080/",
     "height": 887
    },
    "colab_type": "code",
    "id": "7eyLRCmM4Cwb",
    "outputId": "3091795c-fdb6-477f-bdd5-295165b17fdb"
   },
   "outputs": [
    {
     "name": "stdout",
     "output_type": "stream",
     "text": [
      "Train on 2293 samples, validate on 121 samples\n",
      "Epoch 1/20\n",
      "2293/2293 [==============================] - 1s 305us/step - loss: 0.0941 - accuracy: 0.9926 - val_loss: 0.6975 - val_accuracy: 0.8347\n",
      "Epoch 2/20\n",
      "2293/2293 [==============================] - 1s 312us/step - loss: 0.0955 - accuracy: 0.9904 - val_loss: 0.6995 - val_accuracy: 0.8347\n",
      "Epoch 3/20\n",
      "2293/2293 [==============================] - 1s 302us/step - loss: 0.1057 - accuracy: 0.9865 - val_loss: 0.6947 - val_accuracy: 0.8182\n",
      "Epoch 4/20\n",
      "2293/2293 [==============================] - 1s 309us/step - loss: 0.1018 - accuracy: 0.9887 - val_loss: 0.6965 - val_accuracy: 0.8182\n",
      "Epoch 5/20\n",
      "2293/2293 [==============================] - 1s 312us/step - loss: 0.0952 - accuracy: 0.9904 - val_loss: 0.7042 - val_accuracy: 0.8264\n",
      "Epoch 6/20\n",
      "2293/2293 [==============================] - 1s 310us/step - loss: 0.0979 - accuracy: 0.9922 - val_loss: 0.7115 - val_accuracy: 0.8182\n",
      "Epoch 7/20\n",
      "2293/2293 [==============================] - 1s 315us/step - loss: 0.0976 - accuracy: 0.9922 - val_loss: 0.6967 - val_accuracy: 0.8182\n",
      "Epoch 8/20\n",
      "2293/2293 [==============================] - 1s 314us/step - loss: 0.1002 - accuracy: 0.9900 - val_loss: 0.7125 - val_accuracy: 0.8182\n",
      "Epoch 9/20\n",
      "2293/2293 [==============================] - 1s 307us/step - loss: 0.0957 - accuracy: 0.9900 - val_loss: 0.7183 - val_accuracy: 0.8182\n",
      "Epoch 10/20\n",
      "2293/2293 [==============================] - 1s 301us/step - loss: 0.0896 - accuracy: 0.9939 - val_loss: 0.7314 - val_accuracy: 0.8264\n",
      "Epoch 11/20\n",
      "2293/2293 [==============================] - 1s 313us/step - loss: 0.0975 - accuracy: 0.9900 - val_loss: 0.7007 - val_accuracy: 0.8017\n",
      "Epoch 12/20\n",
      "2293/2293 [==============================] - 1s 305us/step - loss: 0.0884 - accuracy: 0.9935 - val_loss: 0.7238 - val_accuracy: 0.8182\n",
      "Epoch 13/20\n",
      "2293/2293 [==============================] - 1s 303us/step - loss: 0.0894 - accuracy: 0.9939 - val_loss: 0.7309 - val_accuracy: 0.8264\n",
      "Epoch 14/20\n",
      "2293/2293 [==============================] - 1s 309us/step - loss: 0.0860 - accuracy: 0.9956 - val_loss: 0.7505 - val_accuracy: 0.8182\n",
      "Epoch 15/20\n",
      "2293/2293 [==============================] - 1s 307us/step - loss: 0.0910 - accuracy: 0.9935 - val_loss: 0.7172 - val_accuracy: 0.8099\n",
      "Epoch 16/20\n",
      "2293/2293 [==============================] - 1s 308us/step - loss: 0.0870 - accuracy: 0.9917 - val_loss: 0.7090 - val_accuracy: 0.8099\n",
      "Epoch 17/20\n",
      "2293/2293 [==============================] - 1s 307us/step - loss: 0.0900 - accuracy: 0.9935 - val_loss: 0.7346 - val_accuracy: 0.8264\n",
      "Epoch 18/20\n",
      "2293/2293 [==============================] - 1s 309us/step - loss: 0.0892 - accuracy: 0.9939 - val_loss: 0.7251 - val_accuracy: 0.8182\n",
      "Epoch 19/20\n",
      "2293/2293 [==============================] - 1s 307us/step - loss: 0.0904 - accuracy: 0.9926 - val_loss: 0.7119 - val_accuracy: 0.8264\n",
      "Epoch 20/20\n",
      "2293/2293 [==============================] - 1s 301us/step - loss: 0.0900 - accuracy: 0.9930 - val_loss: 0.7370 - val_accuracy: 0.8264\n",
      "              precision    recall  f1-score   support\n",
      "\n",
      "           0      0.872     0.933     0.902       506\n",
      "           1      0.452     0.289     0.352        97\n",
      "\n",
      "    accuracy                          0.829       603\n",
      "   macro avg      0.662     0.611     0.627       603\n",
      "weighted avg      0.805     0.829     0.813       603\n",
      "\n"
     ]
    }
   ],
   "source": [
    "rnn.fit(x_train_pad, y_train, batch_size=64,\n",
    "          validation_split=0.05, epochs=20)\n",
    "preds = rnn.predict_classes(x_test_pad)\n",
    "print(classification_report(y_test, preds, digits = 3))"
   ]
  },
  {
   "cell_type": "code",
   "execution_count": 31,
   "metadata": {
    "colab": {
     "base_uri": "https://localhost:8080/",
     "height": 751
    },
    "colab_type": "code",
    "id": "QCqIXLdk5BjB",
    "outputId": "77638118-7855-4a1f-e45c-d0add5d97263"
   },
   "outputs": [
    {
     "name": "stdout",
     "output_type": "stream",
     "text": [
      "Train on 2293 samples, validate on 121 samples\n",
      "Epoch 1/20\n",
      "2293/2293 [==============================] - 1s 319us/step - loss: 0.0926 - accuracy: 0.9922 - val_loss: 0.7257 - val_accuracy: 0.8099\n",
      "Epoch 2/20\n",
      "2293/2293 [==============================] - 1s 320us/step - loss: 0.0942 - accuracy: 0.9930 - val_loss: 0.7238 - val_accuracy: 0.8264\n",
      "Epoch 3/20\n",
      "2293/2293 [==============================] - 1s 310us/step - loss: 0.0877 - accuracy: 0.9930 - val_loss: 0.7352 - val_accuracy: 0.8264\n",
      "Epoch 4/20\n",
      "2293/2293 [==============================] - 1s 317us/step - loss: 0.0933 - accuracy: 0.9930 - val_loss: 0.7122 - val_accuracy: 0.8099\n",
      "Epoch 5/20\n",
      "2293/2293 [==============================] - 1s 329us/step - loss: 0.0863 - accuracy: 0.9926 - val_loss: 0.7387 - val_accuracy: 0.8264\n",
      "Epoch 6/20\n",
      "2293/2293 [==============================] - 1s 314us/step - loss: 0.0863 - accuracy: 0.9926 - val_loss: 0.7393 - val_accuracy: 0.8264\n",
      "Epoch 7/20\n",
      "2293/2293 [==============================] - 1s 315us/step - loss: 0.0860 - accuracy: 0.9939 - val_loss: 0.7368 - val_accuracy: 0.8264\n",
      "Epoch 8/20\n",
      "2293/2293 [==============================] - 1s 321us/step - loss: 0.0851 - accuracy: 0.9935 - val_loss: 0.7381 - val_accuracy: 0.8264\n",
      "Epoch 9/20\n",
      "2293/2293 [==============================] - 1s 328us/step - loss: 0.0839 - accuracy: 0.9948 - val_loss: 0.7268 - val_accuracy: 0.8264\n",
      "Epoch 10/20\n",
      "2293/2293 [==============================] - 1s 303us/step - loss: 0.0863 - accuracy: 0.9943 - val_loss: 0.7505 - val_accuracy: 0.8264\n",
      "Epoch 11/20\n",
      "2293/2293 [==============================] - 1s 307us/step - loss: 0.0917 - accuracy: 0.9930 - val_loss: 0.7063 - val_accuracy: 0.8099\n",
      "Epoch 12/20\n",
      "2293/2293 [==============================] - 1s 312us/step - loss: 0.0851 - accuracy: 0.9935 - val_loss: 0.7592 - val_accuracy: 0.8264\n",
      "Epoch 13/20\n",
      "2293/2293 [==============================] - 1s 301us/step - loss: 0.0888 - accuracy: 0.9930 - val_loss: 0.7334 - val_accuracy: 0.8264\n",
      "Epoch 14/20\n",
      "2293/2293 [==============================] - 1s 302us/step - loss: 0.0804 - accuracy: 0.9956 - val_loss: 0.7309 - val_accuracy: 0.8264\n",
      "Epoch 15/20\n",
      "2293/2293 [==============================] - 1s 305us/step - loss: 0.0827 - accuracy: 0.9948 - val_loss: 0.7606 - val_accuracy: 0.8264\n",
      "Epoch 16/20\n",
      "2293/2293 [==============================] - 1s 303us/step - loss: 0.0847 - accuracy: 0.9939 - val_loss: 0.7325 - val_accuracy: 0.8182\n",
      "Epoch 17/20\n",
      "2293/2293 [==============================] - 1s 296us/step - loss: 0.0875 - accuracy: 0.9930 - val_loss: 0.7229 - val_accuracy: 0.8182\n",
      "Epoch 18/20\n",
      "2293/2293 [==============================] - 1s 306us/step - loss: 0.0853 - accuracy: 0.9939 - val_loss: 0.7356 - val_accuracy: 0.8264\n",
      "Epoch 19/20\n",
      "2293/2293 [==============================] - 1s 311us/step - loss: 0.0845 - accuracy: 0.9939 - val_loss: 0.7201 - val_accuracy: 0.8264\n",
      "Epoch 20/20\n",
      "2293/2293 [==============================] - 1s 310us/step - loss: 0.0847 - accuracy: 0.9943 - val_loss: 0.7172 - val_accuracy: 0.8264\n"
     ]
    },
    {
     "data": {
      "text/plain": [
       "dict_keys(['val_loss', 'val_accuracy', 'loss', 'accuracy'])"
      ]
     },
     "execution_count": 31,
     "metadata": {
      "tags": []
     },
     "output_type": "execute_result"
    }
   ],
   "source": [
    "cnn_mod_fit=rnn.fit(x_train_pad, y_train, batch_size=64,\n",
    "          validation_split=0.05, epochs=20)\n",
    "history_dict = cnn_mod_fit.history\n",
    "history_dict.keys()"
   ]
  },
  {
   "cell_type": "code",
   "execution_count": 33,
   "metadata": {
    "colab": {
     "base_uri": "https://localhost:8080/",
     "height": 295
    },
    "colab_type": "code",
    "id": "P0XzSRfrtpl4",
    "outputId": "a78f9e8f-572e-4250-b240-8608296712fc"
   },
   "outputs": [
    {
     "data": {
      "image/png": "[encoded data removed]",
      "text/plain": [
       "<Figure size 432x288 with 1 Axes>"
      ]
     },
     "metadata": {
      "needs_background": "light",
      "tags": []
     },
     "output_type": "display_data"
    }
   ],
   "source": [
    "acc = history_dict['accuracy']\n",
    "val_acc = history_dict['val_accuracy']\n",
    "loss = history_dict['loss']\n",
    "val_loss = history_dict['val_loss']\n",
    "\n",
    "epochs = range(1, len(acc) + 1)\n",
    "plt.plot(epochs, loss, 'bo', label='Training loss')\n",
    "plt.plot(epochs, val_loss, 'b', label='Validation loss')\n",
    "plt.title('Training and validation loss')\n",
    "plt.xlabel('Epochs')\n",
    "plt.ylabel('Loss')\n",
    "plt.legend()\n",
    "\n",
    "plt.show()"
   ]
  },
  {
   "cell_type": "code",
   "execution_count": 34,
   "metadata": {
    "colab": {
     "base_uri": "https://localhost:8080/",
     "height": 295
    },
    "colab_type": "code",
    "id": "TT47vSemtrZX",
    "outputId": "cf1654e5-c82c-4309-8555-98bb9f06a6b2"
   },
   "outputs": [
    {
     "data": {
      "image/png": "[encoded data removed]",
      "text/plain": [
       "<Figure size 432x288 with 1 Axes>"
      ]
     },
     "metadata": {
      "needs_background": "light",
      "tags": []
     },
     "output_type": "display_data"
    }
   ],
   "source": [
    "plt.plot(epochs, acc, 'bo', label='Training acc')\n",
    "plt.plot(epochs, val_acc, 'b', label='Validation acc')\n",
    "plt.title('Training and validation accuracy')\n",
    "plt.xlabel('Epochs')\n",
    "plt.ylabel('Accuracy')\n",
    "plt.legend()\n",
    "\n",
    "plt.show()"
   ]
  },
  {
   "cell_type": "markdown",
   "metadata": {
    "colab_type": "text",
    "id": "8ncHh90ZNwvY"
   },
   "source": [
    "###5.CNN"
   ]
  },
  {
   "cell_type": "code",
   "execution_count": 35,
   "metadata": {
    "colab": {},
    "colab_type": "code",
    "id": "8EjXDRtcN1j1"
   },
   "outputs": [],
   "source": [
    "from keras.layers import Conv1D, GlobalMaxPooling1D, Dropout"
   ]
  },
  {
   "cell_type": "code",
   "execution_count": 36,
   "metadata": {
    "colab": {},
    "colab_type": "code",
    "id": "FxXtWujMN9-W"
   },
   "outputs": [],
   "source": [
    "embedding_size = 32"
   ]
  },
  {
   "cell_type": "code",
   "execution_count": 37,
   "metadata": {
    "colab": {},
    "colab_type": "code",
    "id": "rrhy9YXmOGab"
   },
   "outputs": [],
   "source": [
    "cnn = Sequential()\n",
    "cnn.add(Embedding(input_dim=num_words,\n",
    "                    output_dim=embedding_size,\n",
    "                    input_length=max_tokens,\n",
    "                    name='Embedding_layer'))\n",
    "\n",
    "cnn.add(Conv1D(filters=32, \n",
    "               kernel_size=7, \n",
    "               activation='relu',\n",
    "               name='Conv_Layer'))\n",
    "\n",
    "cnn.add(GlobalMaxPooling1D(name='Pooling_Layer'))\n",
    "\n",
    "cnn.add(Dense(units=100,\n",
    "              activation='relu',\n",
    "              name='Dense_Layer'))\n",
    "\n",
    "cnn.add(Dense(units=1,\n",
    "              activation='sigmoid',\n",
    "              name='Dense_Output_Layer'))\n",
    "\n",
    "cnn.compile(loss='binary_crossentropy',\n",
    "              optimizer='adam',\n",
    "              metrics=['accuracy'])"
   ]
  },
  {
   "cell_type": "markdown",
   "metadata": {
    "colab_type": "text",
    "id": "HlRn47AVORMv"
   },
   "source": [
    "#### Training"
   ]
  },
  {
   "cell_type": "code",
   "execution_count": 38,
   "metadata": {
    "colab": {
     "base_uri": "https://localhost:8080/",
     "height": 326
    },
    "colab_type": "code",
    "id": "VxUB3Kv9OUa-",
    "outputId": "cb508089-15d7-4dd1-cf2f-25cbaa5d0f18"
   },
   "outputs": [
    {
     "name": "stderr",
     "output_type": "stream",
     "text": [
      "/usr/local/lib/python3.6/dist-packages/tensorflow/python/framework/indexed_slices.py:434: UserWarning: Converting sparse IndexedSlices to a dense Tensor of unknown shape. This may consume a large amount of memory.\n",
      "  \"Converting sparse IndexedSlices to a dense Tensor of unknown shape. \"\n"
     ]
    },
    {
     "name": "stdout",
     "output_type": "stream",
     "text": [
      "Train on 2365 samples, validate on 49 samples\n",
      "Epoch 1/2\n",
      "2365/2365 [==============================] - 1s 339us/step - loss: 0.6867 - accuracy: 0.5501 - val_loss: 0.7911 - val_accuracy: 0.5510\n",
      "Epoch 2/2\n",
      "2365/2365 [==============================] - 1s 255us/step - loss: 0.5228 - accuracy: 0.7603 - val_loss: 1.1082 - val_accuracy: 0.6939\n",
      "2414/2414 [==============================] - 0s 33us/step\n",
      "              precision    recall  f1-score   support\n",
      "\n",
      "           0      0.986     0.908     0.946      2064\n",
      "           1      0.632     0.926     0.751       350\n",
      "\n",
      "    accuracy                          0.911      2414\n",
      "   macro avg      0.809     0.917     0.848      2414\n",
      "weighted avg      0.935     0.911     0.918      2414\n",
      "\n"
     ]
    }
   ],
   "source": [
    "cnn.fit(x_train_pad, y_train, batch_size = 16,\n",
    "          validation_split=0.02, epochs= 2, class_weight = class_weights)\n",
    "cnn.evaluate(x_train_pad, y_train)\n",
    "preds_cnn_train = cnn.predict_classes(x_train_pad)\n",
    "print(classification_report(y_train, preds_cnn_train, digits=3))"
   ]
  },
  {
   "cell_type": "markdown",
   "metadata": {
    "colab_type": "text",
    "id": "6tceqAbaOZ73"
   },
   "source": [
    "#### Testing"
   ]
  },
  {
   "cell_type": "code",
   "execution_count": 39,
   "metadata": {
    "colab": {
     "base_uri": "https://localhost:8080/",
     "height": 187
    },
    "colab_type": "code",
    "id": "mhNaS0FLOa6V",
    "outputId": "3cae39f4-da8b-45c0-fe7a-c402a2269261"
   },
   "outputs": [
    {
     "name": "stdout",
     "output_type": "stream",
     "text": [
      "603/603 [==============================] - 0s 53us/step\n",
      "              precision    recall  f1-score   support\n",
      "\n",
      "           0      0.891     0.836     0.862       506\n",
      "           1      0.352     0.464     0.400        97\n",
      "\n",
      "    accuracy                          0.776       603\n",
      "   macro avg      0.621     0.650     0.631       603\n",
      "weighted avg      0.804     0.776     0.788       603\n",
      "\n"
     ]
    }
   ],
   "source": [
    "cnn.evaluate(x_test_pad, y_test)\n",
    "cnn_preds = cnn.predict_classes(x_test_pad)\n",
    "print(classification_report(y_test, cnn_preds, digits=3))"
   ]
  },
  {
   "cell_type": "code",
   "execution_count": 40,
   "metadata": {
    "colab": {
     "base_uri": "https://localhost:8080/",
     "height": 734
    },
    "colab_type": "code",
    "id": "yj-Ofbwrs5TT",
    "outputId": "125fbd26-85cd-4083-e52b-70daa56eb773"
   },
   "outputs": [
    {
     "name": "stdout",
     "output_type": "stream",
     "text": [
      "Train on 2293 samples, validate on 121 samples\n",
      "Epoch 1/20\n",
      "2293/2293 [==============================] - 1s 257us/step - loss: 0.1486 - accuracy: 0.9451 - val_loss: 0.4793 - val_accuracy: 0.8760\n",
      "Epoch 2/20\n",
      "2293/2293 [==============================] - 1s 251us/step - loss: 0.0546 - accuracy: 0.9856 - val_loss: 0.5670 - val_accuracy: 0.8678\n",
      "Epoch 3/20\n",
      "2293/2293 [==============================] - 1s 254us/step - loss: 0.0170 - accuracy: 0.9969 - val_loss: 0.7010 - val_accuracy: 0.8347\n",
      "Epoch 4/20\n",
      "2293/2293 [==============================] - 1s 250us/step - loss: 0.0088 - accuracy: 0.9983 - val_loss: 0.7574 - val_accuracy: 0.8512\n",
      "Epoch 5/20\n",
      "2293/2293 [==============================] - 1s 263us/step - loss: 0.0056 - accuracy: 0.9987 - val_loss: 0.8685 - val_accuracy: 0.8264\n",
      "Epoch 6/20\n",
      "2293/2293 [==============================] - 1s 259us/step - loss: 0.0036 - accuracy: 0.9987 - val_loss: 0.9252 - val_accuracy: 0.8264\n",
      "Epoch 7/20\n",
      "2293/2293 [==============================] - 1s 259us/step - loss: 0.0048 - accuracy: 0.9991 - val_loss: 0.8819 - val_accuracy: 0.8182\n",
      "Epoch 8/20\n",
      "2293/2293 [==============================] - 1s 265us/step - loss: 0.0054 - accuracy: 0.9983 - val_loss: 0.8915 - val_accuracy: 0.8347\n",
      "Epoch 9/20\n",
      "2293/2293 [==============================] - 1s 253us/step - loss: 0.0040 - accuracy: 0.9996 - val_loss: 0.9641 - val_accuracy: 0.8430\n",
      "Epoch 10/20\n",
      "2293/2293 [==============================] - 1s 267us/step - loss: 0.0069 - accuracy: 0.9983 - val_loss: 1.0204 - val_accuracy: 0.8347\n",
      "Epoch 11/20\n",
      "2293/2293 [==============================] - 1s 262us/step - loss: 0.0020 - accuracy: 0.9991 - val_loss: 0.9534 - val_accuracy: 0.8099\n",
      "Epoch 12/20\n",
      "2293/2293 [==============================] - 1s 256us/step - loss: 0.0066 - accuracy: 0.9991 - val_loss: 0.9754 - val_accuracy: 0.8017\n",
      "Epoch 13/20\n",
      "2293/2293 [==============================] - 1s 266us/step - loss: 0.0031 - accuracy: 0.9996 - val_loss: 1.0553 - val_accuracy: 0.8264\n",
      "Epoch 14/20\n",
      "2293/2293 [==============================] - 1s 266us/step - loss: 0.0058 - accuracy: 0.9991 - val_loss: 1.0491 - val_accuracy: 0.8182\n",
      "Epoch 15/20\n",
      "2293/2293 [==============================] - 1s 262us/step - loss: 0.0053 - accuracy: 0.9991 - val_loss: 0.9859 - val_accuracy: 0.8182\n",
      "Epoch 16/20\n",
      "2293/2293 [==============================] - 1s 252us/step - loss: 0.0045 - accuracy: 0.9991 - val_loss: 0.9684 - val_accuracy: 0.7934\n",
      "Epoch 17/20\n",
      "2293/2293 [==============================] - 1s 254us/step - loss: 0.0034 - accuracy: 0.9991 - val_loss: 1.0393 - val_accuracy: 0.8264\n",
      "Epoch 18/20\n",
      "2293/2293 [==============================] - 1s 259us/step - loss: 0.0025 - accuracy: 0.9991 - val_loss: 0.9810 - val_accuracy: 0.8099\n",
      "Epoch 19/20\n",
      "2293/2293 [==============================] - 1s 264us/step - loss: 0.0031 - accuracy: 0.9996 - val_loss: 1.0510 - val_accuracy: 0.8264\n",
      "Epoch 20/20\n",
      "2293/2293 [==============================] - 1s 266us/step - loss: 0.0034 - accuracy: 0.9991 - val_loss: 0.9874 - val_accuracy: 0.8182\n"
     ]
    }
   ],
   "source": [
    "cnn_mod_fit = cnn.fit(x_train_pad, y_train, batch_size=16,\n",
    "          validation_split=0.05, epochs=20)"
   ]
  },
  {
   "cell_type": "code",
   "execution_count": 41,
   "metadata": {
    "colab": {
     "base_uri": "https://localhost:8080/",
     "height": 34
    },
    "colab_type": "code",
    "id": "HH3Y29vcs7R7",
    "outputId": "25772367-3a39-4710-8b6e-558aa8b06da6"
   },
   "outputs": [
    {
     "data": {
      "text/plain": [
       "dict_keys(['val_loss', 'val_accuracy', 'loss', 'accuracy'])"
      ]
     },
     "execution_count": 41,
     "metadata": {
      "tags": []
     },
     "output_type": "execute_result"
    }
   ],
   "source": [
    "history_dict = cnn_mod_fit.history\n",
    "history_dict.keys()"
   ]
  },
  {
   "cell_type": "markdown",
   "metadata": {
    "colab_type": "text",
    "id": "_bwyCvqondr6"
   },
   "source": [
    "#### Testing"
   ]
  },
  {
   "cell_type": "code",
   "execution_count": 43,
   "metadata": {
    "colab": {
     "base_uri": "https://localhost:8080/",
     "height": 295
    },
    "colab_type": "code",
    "id": "AvkWdSeqr9JH",
    "outputId": "3b2f4164-9763-4c58-98ff-736017f0c35e"
   },
   "outputs": [
    {
     "data": {
      "image/png": "[encoded data removed]",
      "text/plain": [
       "<Figure size 432x288 with 1 Axes>"
      ]
     },
     "metadata": {
      "needs_background": "light",
      "tags": []
     },
     "output_type": "display_data"
    }
   ],
   "source": [
    "acc = history_dict['accuracy']\n",
    "val_acc = history_dict['val_accuracy']\n",
    "loss = history_dict['loss']\n",
    "val_loss = history_dict['val_loss']\n",
    "\n",
    "epochs = range(1, len(acc) + 1)\n",
    "plt.plot(epochs, loss, 'bo', label='Training loss')\n",
    "plt.plot(epochs, val_loss, 'b', label='Validation loss')\n",
    "plt.title('Training and validation loss')\n",
    "plt.xlabel('Epochs')\n",
    "plt.ylabel('Loss')\n",
    "plt.legend()\n",
    "\n",
    "plt.show()"
   ]
  },
  {
   "cell_type": "code",
   "execution_count": 44,
   "metadata": {
    "colab": {
     "base_uri": "https://localhost:8080/",
     "height": 295
    },
    "colab_type": "code",
    "id": "6XkC3BlxPhHJ",
    "outputId": "3f95fce2-9464-4cb2-ef96-a3ef050e35c6"
   },
   "outputs": [
    {
     "data": {
      "image/png": "[encoded data removed]",
      "text/plain": [
       "<Figure size 432x288 with 1 Axes>"
      ]
     },
     "metadata": {
      "needs_background": "light",
      "tags": []
     },
     "output_type": "display_data"
    }
   ],
   "source": [
    "plt.plot(epochs, acc, 'bo', label='Training acc')\n",
    "plt.plot(epochs, val_acc, 'b', label='Validation acc')\n",
    "plt.title('Training and validation accuracy')\n",
    "plt.xlabel('Epochs')\n",
    "plt.ylabel('Accuracy')\n",
    "plt.legend()\n",
    "\n",
    "plt.show()"
   ]
  }
 ],
 "metadata": {
  "colab": {
   "name": "Neural_Networks.ipynb",
   "provenance": [],
   "toc_visible": true
  },
  "kernelspec": {
   "display_name": "Python 3",
   "language": "python",
   "name": "python3"
  },
  "language_info": {
   "codemirror_mode": {
    "name": "ipython",
    "version": 3
   },
   "file_extension": ".py",
   "mimetype": "text/x-python",
   "name": "python",
   "nbconvert_exporter": "python",
   "pygments_lexer": "ipython3",
   "version": "3.5.6"
  }
 },
 "nbformat": 4,
 "nbformat_minor": 1
}
